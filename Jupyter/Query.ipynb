{
 "cells": [
  {
   "cell_type": "markdown",
   "metadata": {},
   "source": [
    "# Outline of Framework\n",
    "- Create Database Connection\n",
    "- Create Table\n",
    "- Exploration Data"
   ]
  },
  {
   "cell_type": "markdown",
   "metadata": {},
   "source": [
    "## Create Database Connection"
   ]
  },
  {
   "cell_type": "code",
   "execution_count": null,
   "metadata": {},
   "outputs": [],
   "source": [
    "import pandas as pd\n",
    "import glob\n",
    "import re\n",
    "import io\n",
    "from sqlalchemy.engine import url as sa_url\n",
    "from sqlalchemy import create_engine\n",
    "from connection import connectionDB\n",
    "\n",
    "db_connect_url = sa_url.URL(\n",
    "            drivername='postgresql+psycopg2',\n",
    "            username=connectionDB.config.get('username'),\n",
    "            password=connectionDB.config.get('password'),\n",
    "            host=connectionDB.config.get('host'),\n",
    "            port=str(connectionDB.config.get('port')),\n",
    "            database=connectionDB.config.get('database'),\n",
    "            \n",
    ")\n",
    "\n",
    "engine= create_engine(db_connect_url)"
   ]
  },
  {
   "cell_type": "markdown",
   "metadata": {},
   "source": [
    "## Create Table \n",
    "### Create a function for initiate a list of file CSV and dbname"
   ]
  },
  {
   "cell_type": "code",
   "execution_count": null,
   "metadata": {},
   "outputs": [],
   "source": [
    "def insert_into (num):\n",
    "    pathdir= r'data'\n",
    "    allFiles = glob.glob(pathdir + \"/*.csv\")\n",
    "    while True:\n",
    "        try:\n",
    "            r1 = str(re.findall(r\"/+[a-zA-Z]*\",allFiles[num]))\n",
    "            tabname = re.findall(r\"[a-zA-Z]+\",r1)\n",
    "            r3 = re.findall(r\"\\w+/\\w+.\\w+\",allFiles[num])\n",
    "        except ValueError:\n",
    "            print(\"Please enter a valid range number of index for table\")\n",
    "        else:\n",
    "            break\n",
    "    return r3, tabname"
   ]
  },
  {
   "cell_type": "markdown",
   "metadata": {},
   "source": [
    "### Reading multiple file csv from list"
   ]
  },
  {
   "cell_type": "code",
   "execution_count": null,
   "metadata": {},
   "outputs": [],
   "source": [
    "def multi_name_csv (num):\n",
    "    csv_list=[]\n",
    "    for j in range(num):\n",
    "        csv_list.append(insert_into(j))\n",
    "        df = pd.DataFrame(csv_list, columns =['csv_name', 'dbname'])\n",
    "        csv_name = df.iloc[:, [0]]\n",
    "        dname = df.iloc[:, [1]]\n",
    "    return csv_name, dname\n",
    "\n",
    "def read_multi_csv(num_list_csv,num_index):\n",
    "    list_csv= multi_name_csv(num_list_csv)\n",
    "    df_list = []\n",
    "    for i in range(num_index):\n",
    "        df_list.append(pd.read_csv('{x}'.format(x=list_csv[0].iloc[i][0][0]), encoding= 'unicode_escape', dtype='unicode'))\n",
    "    return df_list"
   ]
  },
  {
   "cell_type": "markdown",
   "metadata": {},
   "source": [
    "Check and Clean each result file dataframe from CSV input, to check each file, you can access it based on index, like this:\n",
    "\n",
    "- check data + name column\n",
    "    - df['number of index'].head()\n",
    "- show list name column\n",
    "    - list(df['number of index'].columns)\n",
    "- rename column\n",
    "    - df['number of index']['number of index']= df['number of index'].rename(columns = {'name column':'new name column'})\n",
    "- drop column by index\n",
    "    - df['number of index'].drop(df['number of index'].columns['number of index'], axis=1, inplace=True)\n",
    "- etc"
   ]
  },
  {
   "cell_type": "markdown",
   "metadata": {},
   "source": [
    "### Ingest dataframe into db"
   ]
  },
  {
   "cell_type": "code",
   "execution_count": null,
   "metadata": {},
   "outputs": [],
   "source": [
    "def ingest_df_To_DB (num, num_a, num_b, num_c):\n",
    "    de=read_csv(num,num_a)\n",
    "    namedb= multi_name_csv(num_b)\n",
    "    for i in range(num_c):\n",
    "        de[i].to_sql('{x}'.format(x=namedb[1].iloc[i][0][0]), con=engine, if_exists = 'replace', index=False)\n",
    "\n",
    "def main():\n",
    "    ingest_df_To_DB(12,12,2,2)\n",
    "\n",
    "\n",
    "if __name__ == \"__main__\":\n",
    "    main()"
   ]
  }
 ],
 "metadata": {
  "language_info": {
   "codemirror_mode": {
    "name": "ipython",
    "version": 3
   },
   "file_extension": ".py",
   "mimetype": "text/x-python",
   "name": "python",
   "nbconvert_exporter": "python",
   "pygments_lexer": "ipython3",
   "version": "3.7.7-final"
  },
  "orig_nbformat": 2,
  "kernelspec": {
   "name": "python37764bitnotebookcondafe165a177af24705b38734aa78800c6c",
   "display_name": "Python 3.7.7 64-bit ('Notebook': conda)"
  }
 },
 "nbformat": 4,
 "nbformat_minor": 2
}