{
 "cells": [
  {
   "cell_type": "code",
   "execution_count": null,
   "metadata": {},
   "outputs": [],
   "source": [
    "import pandas as pd\n",
    "import glob\n",
    "import re\n",
    "import io\n",
    "from sqlalchemy.engine import url as sa_url\n",
    "from sqlalchemy import create_engine\n",
    "from connection import connectionDB\n",
    "\n",
    "db_connect_url = sa_url.URL(\n",
    "            drivername='postgresql+psycopg2',\n",
    "            username=connectionDB.config.get('username'),\n",
    "            password=connectionDB.config.get('password'),\n",
    "            host=connectionDB.config.get('host'),\n",
    "            port=str(connectionDB.config.get('port')),\n",
    "            database=connectionDB.config.get('database'),\n",
    "            \n",
    ")\n",
    "\n",
    "engine= create_engine(db_connect_url)"
   ]
  }
 ],
 "metadata": {
  "language_info": {
   "codemirror_mode": {
    "name": "ipython",
    "version": 3
   },
   "file_extension": ".py",
   "mimetype": "text/x-python",
   "name": "python",
   "nbconvert_exporter": "python",
   "pygments_lexer": "ipython3",
   "version": 3
  },
  "orig_nbformat": 2
 },
 "nbformat": 4,
 "nbformat_minor": 2
}